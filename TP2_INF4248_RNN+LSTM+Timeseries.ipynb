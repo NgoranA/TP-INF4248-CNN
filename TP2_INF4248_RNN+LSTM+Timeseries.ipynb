{
  "nbformat": 4,
  "nbformat_minor": 0,
  "metadata": {
    "colab": {
      "provenance": []
    },
    "kernelspec": {
      "name": "python3",
      "display_name": "Python 3"
    },
    "language_info": {
      "name": "python"
    }
  },
  "cells": [
    {
      "cell_type": "markdown",
      "source": [
        "\n",
        "\n",
        "# <center> **TP2 INF4248 : RNN+LSTM+Timeseries**\n",
        "\n",
        "\n",
        "---\n",
        "\n",
        "\n",
        "<center> Members\n",
        "\n",
        " ## <center> **Hapi Kamgang Franck  ( 18T2418 )**\n",
        " ## <center> **Ngoran Aristide Fondzela ( 20V2896 )**\n",
        " ## <center> **NUNMUA SONTSA Belvanie Kartel ( 19M2319 )**\n",
        "\n",
        "---\n",
        "\n",
        "\n",
        "\n"
      ],
      "metadata": {
        "id": "5jyeZTHMmsNa"
      }
    },
    {
      "cell_type": "code",
      "execution_count": 1,
      "metadata": {
        "colab": {
          "base_uri": "https://localhost:8080/"
        },
        "id": "0q_L2mmqscOK",
        "outputId": "36275de7-acb4-40ad-871b-8e087fdeea82"
      },
      "outputs": [
        {
          "output_type": "stream",
          "name": "stdout",
          "text": [
            "Mounted at /content/drive\n"
          ]
        }
      ],
      "source": [
        "#Connextion de colab au google drive\n",
        "\n",
        "from google.colab import drive\n",
        "drive.mount('/content/drive')"
      ]
    },
    {
      "cell_type": "code",
      "source": [
        "# Importation des bibliotheques\n",
        "\n",
        "import numpy as np\n",
        "\n",
        "import pandas as pd\n",
        "\n",
        "import matplotlib.pyplot as plt\n"
      ],
      "metadata": {
        "id": "UIu-RAImFhoN"
      },
      "execution_count": 2,
      "outputs": []
    },
    {
      "cell_type": "code",
      "source": [
        "# Importation des donnees d'entrainement\n",
        "\n",
        "training_data = pd.read_csv('/content/drive/MyDrive/FB_training_data.csv')"
      ],
      "metadata": {
        "id": "PD0uq-v9F8Bq"
      },
      "execution_count": 3,
      "outputs": []
    },
    {
      "cell_type": "code",
      "source": [
        "training_data"
      ],
      "metadata": {
        "colab": {
          "base_uri": "https://localhost:8080/",
          "height": 424
        },
        "id": "GgwddtjoGRFM",
        "outputId": "24ce37e2-b854-4188-ec65-39959c13c95c"
      },
      "execution_count": 4,
      "outputs": [
        {
          "output_type": "execute_result",
          "data": {
            "text/plain": [
              "            Date        Open        High         Low       Close   Adj Close  \\\n",
              "0     2015-01-02   78.580002   78.930000   77.699997   78.449997   78.449997   \n",
              "1     2015-01-05   77.980003   79.250000   76.860001   77.190002   77.190002   \n",
              "2     2015-01-06   77.230003   77.589996   75.360001   76.150002   76.150002   \n",
              "3     2015-01-07   76.760002   77.360001   75.820000   76.150002   76.150002   \n",
              "4     2015-01-08   76.739998   78.230003   76.080002   78.180000   78.180000   \n",
              "...          ...         ...         ...         ...         ...         ...   \n",
              "1253  2019-12-24  206.300003  206.789993  205.000000  205.119995  205.119995   \n",
              "1254  2019-12-26  205.570007  207.820007  205.309998  207.789993  207.789993   \n",
              "1255  2019-12-27  208.669998  208.929993  206.589996  208.100006  208.100006   \n",
              "1256  2019-12-30  207.860001  207.899994  203.899994  204.410004  204.410004   \n",
              "1257  2019-12-31  204.000000  205.559998  203.600006  205.250000  205.250000   \n",
              "\n",
              "        Volume  \n",
              "0     18177500  \n",
              "1     26452200  \n",
              "2     27399300  \n",
              "3     22045300  \n",
              "4     23961000  \n",
              "...        ...  \n",
              "1253   6046300  \n",
              "1254   9350700  \n",
              "1255  10284200  \n",
              "1256  10524300  \n",
              "1257   8953500  \n",
              "\n",
              "[1258 rows x 7 columns]"
            ],
            "text/html": [
              "\n",
              "  <div id=\"df-c9d7d5ef-fb38-4e62-b679-0fec0e2bb363\" class=\"colab-df-container\">\n",
              "    <div>\n",
              "<style scoped>\n",
              "    .dataframe tbody tr th:only-of-type {\n",
              "        vertical-align: middle;\n",
              "    }\n",
              "\n",
              "    .dataframe tbody tr th {\n",
              "        vertical-align: top;\n",
              "    }\n",
              "\n",
              "    .dataframe thead th {\n",
              "        text-align: right;\n",
              "    }\n",
              "</style>\n",
              "<table border=\"1\" class=\"dataframe\">\n",
              "  <thead>\n",
              "    <tr style=\"text-align: right;\">\n",
              "      <th></th>\n",
              "      <th>Date</th>\n",
              "      <th>Open</th>\n",
              "      <th>High</th>\n",
              "      <th>Low</th>\n",
              "      <th>Close</th>\n",
              "      <th>Adj Close</th>\n",
              "      <th>Volume</th>\n",
              "    </tr>\n",
              "  </thead>\n",
              "  <tbody>\n",
              "    <tr>\n",
              "      <th>0</th>\n",
              "      <td>2015-01-02</td>\n",
              "      <td>78.580002</td>\n",
              "      <td>78.930000</td>\n",
              "      <td>77.699997</td>\n",
              "      <td>78.449997</td>\n",
              "      <td>78.449997</td>\n",
              "      <td>18177500</td>\n",
              "    </tr>\n",
              "    <tr>\n",
              "      <th>1</th>\n",
              "      <td>2015-01-05</td>\n",
              "      <td>77.980003</td>\n",
              "      <td>79.250000</td>\n",
              "      <td>76.860001</td>\n",
              "      <td>77.190002</td>\n",
              "      <td>77.190002</td>\n",
              "      <td>26452200</td>\n",
              "    </tr>\n",
              "    <tr>\n",
              "      <th>2</th>\n",
              "      <td>2015-01-06</td>\n",
              "      <td>77.230003</td>\n",
              "      <td>77.589996</td>\n",
              "      <td>75.360001</td>\n",
              "      <td>76.150002</td>\n",
              "      <td>76.150002</td>\n",
              "      <td>27399300</td>\n",
              "    </tr>\n",
              "    <tr>\n",
              "      <th>3</th>\n",
              "      <td>2015-01-07</td>\n",
              "      <td>76.760002</td>\n",
              "      <td>77.360001</td>\n",
              "      <td>75.820000</td>\n",
              "      <td>76.150002</td>\n",
              "      <td>76.150002</td>\n",
              "      <td>22045300</td>\n",
              "    </tr>\n",
              "    <tr>\n",
              "      <th>4</th>\n",
              "      <td>2015-01-08</td>\n",
              "      <td>76.739998</td>\n",
              "      <td>78.230003</td>\n",
              "      <td>76.080002</td>\n",
              "      <td>78.180000</td>\n",
              "      <td>78.180000</td>\n",
              "      <td>23961000</td>\n",
              "    </tr>\n",
              "    <tr>\n",
              "      <th>...</th>\n",
              "      <td>...</td>\n",
              "      <td>...</td>\n",
              "      <td>...</td>\n",
              "      <td>...</td>\n",
              "      <td>...</td>\n",
              "      <td>...</td>\n",
              "      <td>...</td>\n",
              "    </tr>\n",
              "    <tr>\n",
              "      <th>1253</th>\n",
              "      <td>2019-12-24</td>\n",
              "      <td>206.300003</td>\n",
              "      <td>206.789993</td>\n",
              "      <td>205.000000</td>\n",
              "      <td>205.119995</td>\n",
              "      <td>205.119995</td>\n",
              "      <td>6046300</td>\n",
              "    </tr>\n",
              "    <tr>\n",
              "      <th>1254</th>\n",
              "      <td>2019-12-26</td>\n",
              "      <td>205.570007</td>\n",
              "      <td>207.820007</td>\n",
              "      <td>205.309998</td>\n",
              "      <td>207.789993</td>\n",
              "      <td>207.789993</td>\n",
              "      <td>9350700</td>\n",
              "    </tr>\n",
              "    <tr>\n",
              "      <th>1255</th>\n",
              "      <td>2019-12-27</td>\n",
              "      <td>208.669998</td>\n",
              "      <td>208.929993</td>\n",
              "      <td>206.589996</td>\n",
              "      <td>208.100006</td>\n",
              "      <td>208.100006</td>\n",
              "      <td>10284200</td>\n",
              "    </tr>\n",
              "    <tr>\n",
              "      <th>1256</th>\n",
              "      <td>2019-12-30</td>\n",
              "      <td>207.860001</td>\n",
              "      <td>207.899994</td>\n",
              "      <td>203.899994</td>\n",
              "      <td>204.410004</td>\n",
              "      <td>204.410004</td>\n",
              "      <td>10524300</td>\n",
              "    </tr>\n",
              "    <tr>\n",
              "      <th>1257</th>\n",
              "      <td>2019-12-31</td>\n",
              "      <td>204.000000</td>\n",
              "      <td>205.559998</td>\n",
              "      <td>203.600006</td>\n",
              "      <td>205.250000</td>\n",
              "      <td>205.250000</td>\n",
              "      <td>8953500</td>\n",
              "    </tr>\n",
              "  </tbody>\n",
              "</table>\n",
              "<p>1258 rows × 7 columns</p>\n",
              "</div>\n",
              "    <div class=\"colab-df-buttons\">\n",
              "\n",
              "  <div class=\"colab-df-container\">\n",
              "    <button class=\"colab-df-convert\" onclick=\"convertToInteractive('df-c9d7d5ef-fb38-4e62-b679-0fec0e2bb363')\"\n",
              "            title=\"Convert this dataframe to an interactive table.\"\n",
              "            style=\"display:none;\">\n",
              "\n",
              "  <svg xmlns=\"http://www.w3.org/2000/svg\" height=\"24px\" viewBox=\"0 -960 960 960\">\n",
              "    <path d=\"M120-120v-720h720v720H120Zm60-500h600v-160H180v160Zm220 220h160v-160H400v160Zm0 220h160v-160H400v160ZM180-400h160v-160H180v160Zm440 0h160v-160H620v160ZM180-180h160v-160H180v160Zm440 0h160v-160H620v160Z\"/>\n",
              "  </svg>\n",
              "    </button>\n",
              "\n",
              "  <style>\n",
              "    .colab-df-container {\n",
              "      display:flex;\n",
              "      gap: 12px;\n",
              "    }\n",
              "\n",
              "    .colab-df-convert {\n",
              "      background-color: #E8F0FE;\n",
              "      border: none;\n",
              "      border-radius: 50%;\n",
              "      cursor: pointer;\n",
              "      display: none;\n",
              "      fill: #1967D2;\n",
              "      height: 32px;\n",
              "      padding: 0 0 0 0;\n",
              "      width: 32px;\n",
              "    }\n",
              "\n",
              "    .colab-df-convert:hover {\n",
              "      background-color: #E2EBFA;\n",
              "      box-shadow: 0px 1px 2px rgba(60, 64, 67, 0.3), 0px 1px 3px 1px rgba(60, 64, 67, 0.15);\n",
              "      fill: #174EA6;\n",
              "    }\n",
              "\n",
              "    .colab-df-buttons div {\n",
              "      margin-bottom: 4px;\n",
              "    }\n",
              "\n",
              "    [theme=dark] .colab-df-convert {\n",
              "      background-color: #3B4455;\n",
              "      fill: #D2E3FC;\n",
              "    }\n",
              "\n",
              "    [theme=dark] .colab-df-convert:hover {\n",
              "      background-color: #434B5C;\n",
              "      box-shadow: 0px 1px 3px 1px rgba(0, 0, 0, 0.15);\n",
              "      filter: drop-shadow(0px 1px 2px rgba(0, 0, 0, 0.3));\n",
              "      fill: #FFFFFF;\n",
              "    }\n",
              "  </style>\n",
              "\n",
              "    <script>\n",
              "      const buttonEl =\n",
              "        document.querySelector('#df-c9d7d5ef-fb38-4e62-b679-0fec0e2bb363 button.colab-df-convert');\n",
              "      buttonEl.style.display =\n",
              "        google.colab.kernel.accessAllowed ? 'block' : 'none';\n",
              "\n",
              "      async function convertToInteractive(key) {\n",
              "        const element = document.querySelector('#df-c9d7d5ef-fb38-4e62-b679-0fec0e2bb363');\n",
              "        const dataTable =\n",
              "          await google.colab.kernel.invokeFunction('convertToInteractive',\n",
              "                                                    [key], {});\n",
              "        if (!dataTable) return;\n",
              "\n",
              "        const docLinkHtml = 'Like what you see? Visit the ' +\n",
              "          '<a target=\"_blank\" href=https://colab.research.google.com/notebooks/data_table.ipynb>data table notebook</a>'\n",
              "          + ' to learn more about interactive tables.';\n",
              "        element.innerHTML = '';\n",
              "        dataTable['output_type'] = 'display_data';\n",
              "        await google.colab.output.renderOutput(dataTable, element);\n",
              "        const docLink = document.createElement('div');\n",
              "        docLink.innerHTML = docLinkHtml;\n",
              "        element.appendChild(docLink);\n",
              "      }\n",
              "    </script>\n",
              "  </div>\n",
              "\n",
              "\n",
              "<div id=\"df-15c3e2a9-aff6-410b-a6cf-9f4e8eefa091\">\n",
              "  <button class=\"colab-df-quickchart\" onclick=\"quickchart('df-15c3e2a9-aff6-410b-a6cf-9f4e8eefa091')\"\n",
              "            title=\"Suggest charts\"\n",
              "            style=\"display:none;\">\n",
              "\n",
              "<svg xmlns=\"http://www.w3.org/2000/svg\" height=\"24px\"viewBox=\"0 0 24 24\"\n",
              "     width=\"24px\">\n",
              "    <g>\n",
              "        <path d=\"M19 3H5c-1.1 0-2 .9-2 2v14c0 1.1.9 2 2 2h14c1.1 0 2-.9 2-2V5c0-1.1-.9-2-2-2zM9 17H7v-7h2v7zm4 0h-2V7h2v10zm4 0h-2v-4h2v4z\"/>\n",
              "    </g>\n",
              "</svg>\n",
              "  </button>\n",
              "\n",
              "<style>\n",
              "  .colab-df-quickchart {\n",
              "      --bg-color: #E8F0FE;\n",
              "      --fill-color: #1967D2;\n",
              "      --hover-bg-color: #E2EBFA;\n",
              "      --hover-fill-color: #174EA6;\n",
              "      --disabled-fill-color: #AAA;\n",
              "      --disabled-bg-color: #DDD;\n",
              "  }\n",
              "\n",
              "  [theme=dark] .colab-df-quickchart {\n",
              "      --bg-color: #3B4455;\n",
              "      --fill-color: #D2E3FC;\n",
              "      --hover-bg-color: #434B5C;\n",
              "      --hover-fill-color: #FFFFFF;\n",
              "      --disabled-bg-color: #3B4455;\n",
              "      --disabled-fill-color: #666;\n",
              "  }\n",
              "\n",
              "  .colab-df-quickchart {\n",
              "    background-color: var(--bg-color);\n",
              "    border: none;\n",
              "    border-radius: 50%;\n",
              "    cursor: pointer;\n",
              "    display: none;\n",
              "    fill: var(--fill-color);\n",
              "    height: 32px;\n",
              "    padding: 0;\n",
              "    width: 32px;\n",
              "  }\n",
              "\n",
              "  .colab-df-quickchart:hover {\n",
              "    background-color: var(--hover-bg-color);\n",
              "    box-shadow: 0 1px 2px rgba(60, 64, 67, 0.3), 0 1px 3px 1px rgba(60, 64, 67, 0.15);\n",
              "    fill: var(--button-hover-fill-color);\n",
              "  }\n",
              "\n",
              "  .colab-df-quickchart-complete:disabled,\n",
              "  .colab-df-quickchart-complete:disabled:hover {\n",
              "    background-color: var(--disabled-bg-color);\n",
              "    fill: var(--disabled-fill-color);\n",
              "    box-shadow: none;\n",
              "  }\n",
              "\n",
              "  .colab-df-spinner {\n",
              "    border: 2px solid var(--fill-color);\n",
              "    border-color: transparent;\n",
              "    border-bottom-color: var(--fill-color);\n",
              "    animation:\n",
              "      spin 1s steps(1) infinite;\n",
              "  }\n",
              "\n",
              "  @keyframes spin {\n",
              "    0% {\n",
              "      border-color: transparent;\n",
              "      border-bottom-color: var(--fill-color);\n",
              "      border-left-color: var(--fill-color);\n",
              "    }\n",
              "    20% {\n",
              "      border-color: transparent;\n",
              "      border-left-color: var(--fill-color);\n",
              "      border-top-color: var(--fill-color);\n",
              "    }\n",
              "    30% {\n",
              "      border-color: transparent;\n",
              "      border-left-color: var(--fill-color);\n",
              "      border-top-color: var(--fill-color);\n",
              "      border-right-color: var(--fill-color);\n",
              "    }\n",
              "    40% {\n",
              "      border-color: transparent;\n",
              "      border-right-color: var(--fill-color);\n",
              "      border-top-color: var(--fill-color);\n",
              "    }\n",
              "    60% {\n",
              "      border-color: transparent;\n",
              "      border-right-color: var(--fill-color);\n",
              "    }\n",
              "    80% {\n",
              "      border-color: transparent;\n",
              "      border-right-color: var(--fill-color);\n",
              "      border-bottom-color: var(--fill-color);\n",
              "    }\n",
              "    90% {\n",
              "      border-color: transparent;\n",
              "      border-bottom-color: var(--fill-color);\n",
              "    }\n",
              "  }\n",
              "</style>\n",
              "\n",
              "  <script>\n",
              "    async function quickchart(key) {\n",
              "      const quickchartButtonEl =\n",
              "        document.querySelector('#' + key + ' button');\n",
              "      quickchartButtonEl.disabled = true;  // To prevent multiple clicks.\n",
              "      quickchartButtonEl.classList.add('colab-df-spinner');\n",
              "      try {\n",
              "        const charts = await google.colab.kernel.invokeFunction(\n",
              "            'suggestCharts', [key], {});\n",
              "      } catch (error) {\n",
              "        console.error('Error during call to suggestCharts:', error);\n",
              "      }\n",
              "      quickchartButtonEl.classList.remove('colab-df-spinner');\n",
              "      quickchartButtonEl.classList.add('colab-df-quickchart-complete');\n",
              "    }\n",
              "    (() => {\n",
              "      let quickchartButtonEl =\n",
              "        document.querySelector('#df-15c3e2a9-aff6-410b-a6cf-9f4e8eefa091 button');\n",
              "      quickchartButtonEl.style.display =\n",
              "        google.colab.kernel.accessAllowed ? 'block' : 'none';\n",
              "    })();\n",
              "  </script>\n",
              "</div>\n",
              "    </div>\n",
              "  </div>\n"
            ],
            "application/vnd.google.colaboratory.intrinsic+json": {
              "type": "dataframe",
              "variable_name": "training_data",
              "summary": "{\n  \"name\": \"training_data\",\n  \"rows\": 1258,\n  \"fields\": [\n    {\n      \"column\": \"Date\",\n      \"properties\": {\n        \"dtype\": \"object\",\n        \"num_unique_values\": 1258,\n        \"samples\": [\n          \"2017-03-27\",\n          \"2015-05-29\",\n          \"2015-03-18\"\n        ],\n        \"semantic_type\": \"\",\n        \"description\": \"\"\n      }\n    },\n    {\n      \"column\": \"Open\",\n      \"properties\": {\n        \"dtype\": \"number\",\n        \"std\": 38.06505670908643,\n        \"min\": 74.040001,\n        \"max\": 215.720001,\n        \"num_unique_values\": 1168,\n        \"samples\": [\n          178.600006,\n          179.550003,\n          80.800003\n        ],\n        \"semantic_type\": \"\",\n        \"description\": \"\"\n      }\n    },\n    {\n      \"column\": \"High\",\n      \"properties\": {\n        \"dtype\": \"number\",\n        \"std\": 38.39916244158833,\n        \"min\": 74.830002,\n        \"max\": 218.619995,\n        \"num_unique_values\": 1182,\n        \"samples\": [\n          178.080002,\n          174.300003,\n          186.740005\n        ],\n        \"semantic_type\": \"\",\n        \"description\": \"\"\n      }\n    },\n    {\n      \"column\": \"Low\",\n      \"properties\": {\n        \"dtype\": \"number\",\n        \"std\": 37.73417951341194,\n        \"min\": 72.0,\n        \"max\": 214.270004,\n        \"num_unique_values\": 1184,\n        \"samples\": [\n          118.900002,\n          132.199997,\n          179.309998\n        ],\n        \"semantic_type\": \"\",\n        \"description\": \"\"\n      }\n    },\n    {\n      \"column\": \"Close\",\n      \"properties\": {\n        \"dtype\": \"number\",\n        \"std\": 38.08676073499903,\n        \"min\": 74.050003,\n        \"max\": 217.5,\n        \"num_unique_values\": 1188,\n        \"samples\": [\n          117.809998,\n          194.470001,\n          151.380005\n        ],\n        \"semantic_type\": \"\",\n        \"description\": \"\"\n      }\n    },\n    {\n      \"column\": \"Adj Close\",\n      \"properties\": {\n        \"dtype\": \"number\",\n        \"std\": 38.08676073499903,\n        \"min\": 74.050003,\n        \"max\": 217.5,\n        \"num_unique_values\": 1188,\n        \"samples\": [\n          117.809998,\n          194.470001,\n          151.380005\n        ],\n        \"semantic_type\": \"\",\n        \"description\": \"\"\n      }\n    },\n    {\n      \"column\": \"Volume\",\n      \"properties\": {\n        \"dtype\": \"number\",\n        \"std\": 14004149,\n        \"min\": 5913100,\n        \"max\": 169803700,\n        \"num_unique_values\": 1256,\n        \"samples\": [\n          15064900,\n          16134600,\n          36912400\n        ],\n        \"semantic_type\": \"\",\n        \"description\": \"\"\n      }\n    }\n  ]\n}"
            }
          },
          "metadata": {},
          "execution_count": 4
        }
      ]
    },
    {
      "cell_type": "code",
      "source": [
        "# Transformer les donnees en un tableau numpy\n",
        "training_data = training_data.iloc[:, 1].values"
      ],
      "metadata": {
        "id": "I1NTvTyOGUbu"
      },
      "execution_count": 5,
      "outputs": []
    },
    {
      "cell_type": "code",
      "source": [
        "type(training_data)"
      ],
      "metadata": {
        "colab": {
          "base_uri": "https://localhost:8080/"
        },
        "id": "gY4JC6o8GjNx",
        "outputId": "3b2e9bf1-c8c6-4428-9c9d-138f290c4070"
      },
      "execution_count": 6,
      "outputs": [
        {
          "output_type": "execute_result",
          "data": {
            "text/plain": [
              "numpy.ndarray"
            ]
          },
          "metadata": {},
          "execution_count": 6
        }
      ]
    },
    {
      "cell_type": "markdown",
      "source": [
        "### Pretraitement: standardisation et normalisation"
      ],
      "metadata": {
        "id": "JcpwuRWRG5EH"
      }
    },
    {
      "cell_type": "code",
      "source": [
        "# Appliquer la mise à l'échelle sur l'ensemble de données\n",
        "\n",
        "from sklearn.preprocessing import MinMaxScaler\n",
        "\n",
        "scaler = MinMaxScaler()\n",
        "training_data = scaler.fit_transform(training_data.reshape(-1, 1))"
      ],
      "metadata": {
        "id": "VvkPciaYGrVu"
      },
      "execution_count": 7,
      "outputs": []
    },
    {
      "cell_type": "code",
      "source": [
        "x_training_data = []\n",
        "y_training_data =[]\n",
        "\n",
        "for i in range(40, len(training_data)):\n",
        "    x_training_data.append(training_data[i-40:i, 0])\n",
        "    y_training_data.append(training_data[i, 0])\n",
        "\n",
        "# Transformer les listes en des numpy array\n",
        "x_training_data = np.array(x_training_data)\n",
        "y_training_data = np.array(y_training_data)"
      ],
      "metadata": {
        "id": "DPKqU48zHOoe"
      },
      "execution_count": 8,
      "outputs": []
    },
    {
      "cell_type": "code",
      "source": [
        "print(x_training_data.shape)\n",
        "print(y_training_data.shape)"
      ],
      "metadata": {
        "colab": {
          "base_uri": "https://localhost:8080/"
        },
        "id": "mLpqnb_7HaPk",
        "outputId": "5e252ae9-adf2-4381-b586-71cfbe77661c"
      },
      "execution_count": 9,
      "outputs": [
        {
          "output_type": "stream",
          "name": "stdout",
          "text": [
            "(1218, 40)\n",
            "(1218,)\n"
          ]
        }
      ]
    },
    {
      "cell_type": "code",
      "source": [
        "#Remodeler le tableau NumPy pour répondre aux normes TensorFlow\n",
        "x_training_data = np.reshape(x_training_data, (x_training_data.shape[0],\n",
        "                                               x_training_data.shape[1],\n",
        "                                               1))"
      ],
      "metadata": {
        "id": "64VIyy7SH51M"
      },
      "execution_count": 10,
      "outputs": []
    },
    {
      "cell_type": "code",
      "source": [
        "print(x_training_data.shape)"
      ],
      "metadata": {
        "colab": {
          "base_uri": "https://localhost:8080/"
        },
        "id": "3yH7qJfVIB-m",
        "outputId": "f69bd421-7528-41c2-da09-1bdce57b4d6b"
      },
      "execution_count": 11,
      "outputs": [
        {
          "output_type": "stream",
          "name": "stdout",
          "text": [
            "(1218, 40, 1)\n"
          ]
        }
      ]
    },
    {
      "cell_type": "code",
      "source": [
        "#Importer les librairies TensorFlow\n",
        "from tensorflow.keras.models import Sequential\n",
        "\n",
        "from tensorflow.keras.layers import Dense\n",
        "\n",
        "from tensorflow.keras.layers import LSTM\n",
        "\n",
        "from tensorflow.keras.layers import Dropout"
      ],
      "metadata": {
        "id": "_254YC5UIFxT"
      },
      "execution_count": 12,
      "outputs": []
    },
    {
      "cell_type": "code",
      "source": [
        "# Initialiser notre reseau de neurone recurent\n",
        "rnn = Sequential()\n",
        "\n",
        "# units = nombre de neurones LSTM a utiliser dans cette couche\n",
        "# return_sequences permet de savoir si une autre couche sera inclure, raison du False lorsque la derniere couche est ajoutee\n",
        "# input_shape designe le nombre de pas (40 ici) et le nombre de predicteur(1 ici) de nos donnees d'entrainement\n",
        "\n",
        "# Dropout : La régularisation des abandons est une technique utilisée pour éviter le surapprentissage lors de la formation des réseaux de neurones\n",
        "# Le taux d'abandon indique combien de neurones doivent être abandonnés dans une couche spécifique du réseau neuronal(20% ici).\n",
        "\n",
        "# Ajouter la premiere couche LSTM\n",
        "rnn.add(LSTM(units = 45, return_sequences = True, input_shape = (x_training_data.shape[1], 1)))\n",
        "rnn.add(Dropout(0.2)) #Effectuer une régularisation des sortis\n",
        "\n",
        "# Ajouter trois(03) autres couches(couches cachees)\n",
        "rnn.add(LSTM(units = 45, return_sequences = True))\n",
        "rnn.add(Dropout(0.2))\n",
        "\n",
        "rnn.add(LSTM(units = 45, return_sequences = True))\n",
        "rnn.add(Dropout(0.2))\n",
        "\n",
        "rnn.add(LSTM(units = 45, return_sequences = False))\n",
        "rnn.add(Dropout(0.2))\n",
        "\n",
        "# Ajouter la couche de sortie\n",
        "rnn.add(Dense(units = 1))\n",
        "\n",
        "# Compiler le reseau de neuronne recurent\n",
        "rnn.compile(optimizer = 'adam', loss = 'mean_squared_error')\n",
        "\n",
        "# Entrainer le reseau de neurone recurent\n",
        "rnn.fit(x_training_data, y_training_data, epochs = 100, batch_size = 32)"
      ],
      "metadata": {
        "colab": {
          "base_uri": "https://localhost:8080/"
        },
        "id": "1kqEwmvqII7e",
        "outputId": "d241e6b8-bf6e-4957-dc93-6de2fbffcd35"
      },
      "execution_count": 13,
      "outputs": [
        {
          "output_type": "stream",
          "name": "stdout",
          "text": [
            "Epoch 1/100\n",
            "39/39 [==============================] - 12s 79ms/step - loss: 0.0468\n",
            "Epoch 2/100\n",
            "39/39 [==============================] - 4s 101ms/step - loss: 0.0087\n",
            "Epoch 3/100\n",
            "39/39 [==============================] - 4s 104ms/step - loss: 0.0065\n",
            "Epoch 4/100\n",
            "39/39 [==============================] - 3s 81ms/step - loss: 0.0064\n",
            "Epoch 5/100\n",
            "39/39 [==============================] - 3s 79ms/step - loss: 0.0063\n",
            "Epoch 6/100\n",
            "39/39 [==============================] - 4s 99ms/step - loss: 0.0057\n",
            "Epoch 7/100\n",
            "39/39 [==============================] - 5s 134ms/step - loss: 0.0058\n",
            "Epoch 8/100\n",
            "39/39 [==============================] - 3s 77ms/step - loss: 0.0059\n",
            "Epoch 9/100\n",
            "39/39 [==============================] - 3s 78ms/step - loss: 0.0054\n",
            "Epoch 10/100\n",
            "39/39 [==============================] - 4s 104ms/step - loss: 0.0053\n",
            "Epoch 11/100\n",
            "39/39 [==============================] - 4s 94ms/step - loss: 0.0061\n",
            "Epoch 12/100\n",
            "39/39 [==============================] - 3s 79ms/step - loss: 0.0054\n",
            "Epoch 13/100\n",
            "39/39 [==============================] - 3s 77ms/step - loss: 0.0051\n",
            "Epoch 14/100\n",
            "39/39 [==============================] - 4s 95ms/step - loss: 0.0050\n",
            "Epoch 15/100\n",
            "39/39 [==============================] - 4s 102ms/step - loss: 0.0046\n",
            "Epoch 16/100\n",
            "39/39 [==============================] - 3s 78ms/step - loss: 0.0045\n",
            "Epoch 17/100\n",
            "39/39 [==============================] - 3s 78ms/step - loss: 0.0043\n",
            "Epoch 18/100\n",
            "39/39 [==============================] - 3s 87ms/step - loss: 0.0049\n",
            "Epoch 19/100\n",
            "39/39 [==============================] - 4s 111ms/step - loss: 0.0041\n",
            "Epoch 20/100\n",
            "39/39 [==============================] - 3s 78ms/step - loss: 0.0045\n",
            "Epoch 21/100\n",
            "39/39 [==============================] - 3s 79ms/step - loss: 0.0042\n",
            "Epoch 22/100\n",
            "39/39 [==============================] - 3s 80ms/step - loss: 0.0037\n",
            "Epoch 23/100\n",
            "39/39 [==============================] - 5s 117ms/step - loss: 0.0040\n",
            "Epoch 24/100\n",
            "39/39 [==============================] - 3s 77ms/step - loss: 0.0035\n",
            "Epoch 25/100\n",
            "39/39 [==============================] - 3s 77ms/step - loss: 0.0039\n",
            "Epoch 26/100\n",
            "39/39 [==============================] - 3s 78ms/step - loss: 0.0040\n",
            "Epoch 27/100\n",
            "39/39 [==============================] - 5s 118ms/step - loss: 0.0036\n",
            "Epoch 28/100\n",
            "39/39 [==============================] - 3s 80ms/step - loss: 0.0037\n",
            "Epoch 29/100\n",
            "39/39 [==============================] - 3s 77ms/step - loss: 0.0037\n",
            "Epoch 30/100\n",
            "39/39 [==============================] - 3s 78ms/step - loss: 0.0037\n",
            "Epoch 31/100\n",
            "39/39 [==============================] - 4s 111ms/step - loss: 0.0036\n",
            "Epoch 32/100\n",
            "39/39 [==============================] - 3s 86ms/step - loss: 0.0039\n",
            "Epoch 33/100\n",
            "39/39 [==============================] - 3s 78ms/step - loss: 0.0039\n",
            "Epoch 34/100\n",
            "39/39 [==============================] - 3s 78ms/step - loss: 0.0032\n",
            "Epoch 35/100\n",
            "39/39 [==============================] - 4s 103ms/step - loss: 0.0034\n",
            "Epoch 36/100\n",
            "39/39 [==============================] - 4s 97ms/step - loss: 0.0036\n",
            "Epoch 37/100\n",
            "39/39 [==============================] - 3s 78ms/step - loss: 0.0030\n",
            "Epoch 38/100\n",
            "39/39 [==============================] - 3s 79ms/step - loss: 0.0032\n",
            "Epoch 39/100\n",
            "39/39 [==============================] - 4s 95ms/step - loss: 0.0034\n",
            "Epoch 40/100\n",
            "39/39 [==============================] - 4s 104ms/step - loss: 0.0037\n",
            "Epoch 41/100\n",
            "39/39 [==============================] - 3s 78ms/step - loss: 0.0032\n",
            "Epoch 42/100\n",
            "39/39 [==============================] - 3s 79ms/step - loss: 0.0028\n",
            "Epoch 43/100\n",
            "39/39 [==============================] - 3s 88ms/step - loss: 0.0030\n",
            "Epoch 44/100\n",
            "39/39 [==============================] - 4s 111ms/step - loss: 0.0030\n",
            "Epoch 45/100\n",
            "39/39 [==============================] - 4s 97ms/step - loss: 0.0030\n",
            "Epoch 46/100\n",
            "39/39 [==============================] - 4s 106ms/step - loss: 0.0028\n",
            "Epoch 47/100\n",
            "39/39 [==============================] - 4s 107ms/step - loss: 0.0027\n",
            "Epoch 48/100\n",
            "39/39 [==============================] - 4s 92ms/step - loss: 0.0028\n",
            "Epoch 49/100\n",
            "39/39 [==============================] - 3s 79ms/step - loss: 0.0028\n",
            "Epoch 50/100\n",
            "39/39 [==============================] - 3s 78ms/step - loss: 0.0026\n",
            "Epoch 51/100\n",
            "39/39 [==============================] - 5s 119ms/step - loss: 0.0026\n",
            "Epoch 52/100\n",
            "39/39 [==============================] - 5s 134ms/step - loss: 0.0025\n",
            "Epoch 53/100\n",
            "39/39 [==============================] - 3s 79ms/step - loss: 0.0030\n",
            "Epoch 54/100\n",
            "39/39 [==============================] - 3s 79ms/step - loss: 0.0024\n",
            "Epoch 55/100\n",
            "39/39 [==============================] - 3s 79ms/step - loss: 0.0026\n",
            "Epoch 56/100\n",
            "39/39 [==============================] - 5s 121ms/step - loss: 0.0022\n",
            "Epoch 57/100\n",
            "39/39 [==============================] - 3s 79ms/step - loss: 0.0024\n",
            "Epoch 58/100\n",
            "39/39 [==============================] - 3s 78ms/step - loss: 0.0022\n",
            "Epoch 59/100\n",
            "39/39 [==============================] - 3s 78ms/step - loss: 0.0023\n",
            "Epoch 60/100\n",
            "39/39 [==============================] - 5s 117ms/step - loss: 0.0023\n",
            "Epoch 61/100\n",
            "39/39 [==============================] - 3s 81ms/step - loss: 0.0020\n",
            "Epoch 62/100\n",
            "39/39 [==============================] - 3s 78ms/step - loss: 0.0022\n",
            "Epoch 63/100\n",
            "39/39 [==============================] - 3s 76ms/step - loss: 0.0023\n",
            "Epoch 64/100\n",
            "39/39 [==============================] - 4s 108ms/step - loss: 0.0025\n",
            "Epoch 65/100\n",
            "39/39 [==============================] - 4s 89ms/step - loss: 0.0021\n",
            "Epoch 66/100\n",
            "39/39 [==============================] - 3s 77ms/step - loss: 0.0023\n",
            "Epoch 67/100\n",
            "39/39 [==============================] - 3s 76ms/step - loss: 0.0020\n",
            "Epoch 68/100\n",
            "39/39 [==============================] - 4s 97ms/step - loss: 0.0019\n",
            "Epoch 69/100\n",
            "39/39 [==============================] - 4s 99ms/step - loss: 0.0021\n",
            "Epoch 70/100\n",
            "39/39 [==============================] - 3s 78ms/step - loss: 0.0019\n",
            "Epoch 71/100\n",
            "39/39 [==============================] - 3s 77ms/step - loss: 0.0023\n",
            "Epoch 72/100\n",
            "39/39 [==============================] - 4s 91ms/step - loss: 0.0023\n",
            "Epoch 73/100\n",
            "39/39 [==============================] - 4s 109ms/step - loss: 0.0020\n",
            "Epoch 74/100\n",
            "39/39 [==============================] - 3s 78ms/step - loss: 0.0019\n",
            "Epoch 75/100\n",
            "39/39 [==============================] - 3s 78ms/step - loss: 0.0020\n",
            "Epoch 76/100\n",
            "39/39 [==============================] - 3s 82ms/step - loss: 0.0025\n",
            "Epoch 77/100\n",
            "39/39 [==============================] - 5s 115ms/step - loss: 0.0019\n",
            "Epoch 78/100\n",
            "39/39 [==============================] - 3s 79ms/step - loss: 0.0020\n",
            "Epoch 79/100\n",
            "39/39 [==============================] - 4s 106ms/step - loss: 0.0019\n",
            "Epoch 80/100\n",
            "39/39 [==============================] - 7s 182ms/step - loss: 0.0021\n",
            "Epoch 81/100\n",
            "39/39 [==============================] - 5s 128ms/step - loss: 0.0019\n",
            "Epoch 82/100\n",
            "39/39 [==============================] - 5s 134ms/step - loss: 0.0022\n",
            "Epoch 83/100\n",
            "39/39 [==============================] - 6s 154ms/step - loss: 0.0018\n",
            "Epoch 84/100\n",
            "39/39 [==============================] - 5s 132ms/step - loss: 0.0018\n",
            "Epoch 85/100\n",
            "39/39 [==============================] - 3s 81ms/step - loss: 0.0019\n",
            "Epoch 86/100\n",
            "39/39 [==============================] - 6s 155ms/step - loss: 0.0022\n",
            "Epoch 87/100\n",
            "39/39 [==============================] - 4s 110ms/step - loss: 0.0018\n",
            "Epoch 88/100\n",
            "39/39 [==============================] - 4s 109ms/step - loss: 0.0019\n",
            "Epoch 89/100\n",
            "39/39 [==============================] - 6s 151ms/step - loss: 0.0017\n",
            "Epoch 90/100\n",
            "39/39 [==============================] - 4s 99ms/step - loss: 0.0018\n",
            "Epoch 91/100\n",
            "39/39 [==============================] - 3s 80ms/step - loss: 0.0017\n",
            "Epoch 92/100\n",
            "39/39 [==============================] - 3s 88ms/step - loss: 0.0019\n",
            "Epoch 93/100\n",
            "39/39 [==============================] - 4s 111ms/step - loss: 0.0016\n",
            "Epoch 94/100\n",
            "39/39 [==============================] - 3s 80ms/step - loss: 0.0017\n",
            "Epoch 95/100\n",
            "39/39 [==============================] - 3s 78ms/step - loss: 0.0016\n",
            "Epoch 96/100\n",
            "39/39 [==============================] - 3s 82ms/step - loss: 0.0017\n",
            "Epoch 97/100\n",
            "39/39 [==============================] - 5s 116ms/step - loss: 0.0016\n",
            "Epoch 98/100\n",
            "39/39 [==============================] - 3s 78ms/step - loss: 0.0016\n",
            "Epoch 99/100\n",
            "39/39 [==============================] - 3s 78ms/step - loss: 0.0017\n",
            "Epoch 100/100\n",
            "39/39 [==============================] - 3s 79ms/step - loss: 0.0016\n"
          ]
        },
        {
          "output_type": "execute_result",
          "data": {
            "text/plain": [
              "<keras.src.callbacks.History at 0x7c3fe2e9a500>"
            ]
          },
          "metadata": {},
          "execution_count": 13
        }
      ]
    },
    {
      "cell_type": "markdown",
      "source": [
        "Apres l'entrainement de notre reseau de neuronne, la Loss function va quitter de 0.0468 a 0.0016."
      ],
      "metadata": {
        "id": "DgXHjmDz9wzi"
      }
    },
    {
      "cell_type": "code",
      "source": [
        "# Importer les donnees de test\n",
        "test_data = pd.read_csv('/content/drive/MyDrive/FB_test_data.csv')\n",
        "\n",
        "test_data = test_data.iloc[:, 1].values"
      ],
      "metadata": {
        "id": "vVkoLEwOIoqi"
      },
      "execution_count": null,
      "outputs": []
    },
    {
      "cell_type": "code",
      "source": [
        "plt.plot(test_data)"
      ],
      "metadata": {
        "colab": {
          "base_uri": "https://localhost:8080/",
          "height": 447
        },
        "id": "g9LBTpGpLIrv",
        "outputId": "7a32e454-0559-47c0-cb2b-bc9823ba9f73"
      },
      "execution_count": null,
      "outputs": [
        {
          "output_type": "execute_result",
          "data": {
            "text/plain": [
              "[<matplotlib.lines.Line2D at 0x7eec300e74f0>]"
            ]
          },
          "metadata": {},
          "execution_count": 29
        },
        {
          "output_type": "display_data",
          "data": {
            "text/plain": [
              "<Figure size 640x480 with 1 Axes>"
            ],
            "image/png": "[encoded data removed]"
          },
          "metadata": {}
        }
      ]
    },
    {
      "cell_type": "code",
      "source": [
        "#Créer des données d'entraînement non mises à l'échelle et tester les données\n",
        "unscaled_training_data = pd.read_csv('/content/drive/MyDrive/FB_training_data.csv')\n",
        "unscaled_test_data = pd.read_csv('/content/drive/MyDrive/FB_test_data.csv')\n",
        "\n",
        "#Concaténer les données non mises à l'échelle\n",
        "all_data = pd.concat((unscaled_training_data['Open'], unscaled_test_data['Open']), axis = 0)\n",
        "\n",
        "#Crée la variable x_test_data, qui a chaque jour de janvier + les 40 jours précédents\n",
        "x_test_data = all_data[len(all_data) - len(test_data) - 40:].values\n",
        "x_test_data = np.reshape(x_test_data, (-1, 1))\n",
        "\n",
        "#Scale the test data\n",
        "x_test_data = scaler.transform(x_test_data)\n",
        "\n",
        "#Grouper nos donnees de test\n",
        "final_x_test_data = []\n",
        "\n",
        "for i in range(40, len(x_test_data)):\n",
        "\n",
        "    final_x_test_data.append(x_test_data[i-40:i, 0])\n",
        "\n",
        "final_x_test_data = np.array(final_x_test_data)\n",
        "\n",
        "#Remodeler le tableau NumPy pour répondre aux normes TensorFlow\n",
        "final_x_test_data = np.reshape(final_x_test_data, (final_x_test_data.shape[0],\n",
        "\n",
        "                                               final_x_test_data.shape[1],\n",
        "\n",
        "                                               1))\n",
        "\n",
        "# Generer nos valeurs predictes\n",
        "predictions = rnn.predict(final_x_test_data)"
      ],
      "metadata": {
        "id": "0eXlfEOILMbd"
      },
      "execution_count": null,
      "outputs": []
    },
    {
      "cell_type": "code",
      "source": [
        "plt.clf()\n",
        "plt.plot(predictions)"
      ],
      "metadata": {
        "colab": {
          "base_uri": "https://localhost:8080/",
          "height": 447
        },
        "id": "Lh36hRIoMB1k",
        "outputId": "ee35eeaa-230e-4855-e901-1843bf0ada31"
      },
      "execution_count": null,
      "outputs": [
        {
          "output_type": "execute_result",
          "data": {
            "text/plain": [
              "[<matplotlib.lines.Line2D at 0x7eec29f5a500>]"
            ]
          },
          "metadata": {},
          "execution_count": 40
        },
        {
          "output_type": "display_data",
          "data": {
            "text/plain": [
              "<Figure size 640x480 with 1 Axes>"
            ],
            "image/png": "[encoded data removed]"
          },
          "metadata": {}
        }
      ]
    },
    {
      "cell_type": "code",
      "source": [
        "# Denormaliser les valeurs prédites et retracer la courbe\n",
        "unscaled_predictions = scaler.inverse_transform(predictions)\n",
        "plt.clf()\n",
        "plt.plot(unscaled_predictions)"
      ],
      "metadata": {
        "colab": {
          "base_uri": "https://localhost:8080/",
          "height": 447
        },
        "id": "Ug3N3ClQMJbH",
        "outputId": "4bbbfb6d-f4e2-4ede-f712-50646c639e2e"
      },
      "execution_count": null,
      "outputs": [
        {
          "output_type": "execute_result",
          "data": {
            "text/plain": [
              "[<matplotlib.lines.Line2D at 0x7eec29fa5cf0>]"
            ]
          },
          "metadata": {},
          "execution_count": 42
        },
        {
          "output_type": "display_data",
          "data": {
            "text/plain": [
              "<Figure size 640x480 with 1 Axes>"
            ],
            "image/png": "[encoded data removed]"
          },
          "metadata": {}
        }
      ]
    },
    {
      "cell_type": "markdown",
      "source": [
        "Meme avec les donnees non normalisees, la prediction est la meme que celle des donnees normalisees."
      ],
      "metadata": {
        "id": "ecaufKfE28_B"
      }
    },
    {
      "cell_type": "code",
      "source": [
        "#Courbes des valeurs prédites par rapport aux valeurs réelles de Facebook\n",
        "plt.plot(unscaled_predictions, color = '#135485', label = \"Predictions\")\n",
        "\n",
        "plt.plot(test_data, color = 'black', label = \"Real Data\")\n",
        "\n",
        "plt.title('Facebook Stock Price Predictions')"
      ],
      "metadata": {
        "colab": {
          "base_uri": "https://localhost:8080/",
          "height": 469
        },
        "id": "QjFbCI-2MTAv",
        "outputId": "68d47aef-8bab-4a84-eae3-9146e416ffa5"
      },
      "execution_count": null,
      "outputs": [
        {
          "output_type": "execute_result",
          "data": {
            "text/plain": [
              "Text(0.5, 1.0, 'Facebook Stock Price Predictions')"
            ]
          },
          "metadata": {},
          "execution_count": 43
        },
        {
          "output_type": "display_data",
          "data": {
            "text/plain": [
              "<Figure size 640x480 with 1 Axes>"
            ],
            "image/png": "[encoded data removed]"
          },
          "metadata": {}
        }
      ]
    },
    {
      "cell_type": "markdown",
      "source": [
        "On remarque que la prediction etait approximativement correcte dans l'ensemble. Cependant on observe une grande difference apres une certaine valeur (15)."
      ],
      "metadata": {
        "id": "7gnE15RB3rPP"
      }
    },
    {
      "cell_type": "code",
      "source": [],
      "metadata": {
        "id": "5bxcewYVMmdo"
      },
      "execution_count": null,
      "outputs": []
    },
    {
      "cell_type": "code",
      "source": [],
      "metadata": {
        "id": "1SL0yQ6hNDv6"
      },
      "execution_count": null,
      "outputs": []
    }
  ]
}