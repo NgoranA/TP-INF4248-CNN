{
  "cells": [
    {
      "cell_type": "markdown",
      "metadata": {
        "id": "view-in-github",
        "colab_type": "text"
      },
      "source": [
        "<a href=\"https://colab.research.google.com/github/NgoranA/TP1-INF4248-CNN/blob/main/TP1%20INF4248%20CNN.ipynb\" target=\"_parent\"><img src=\"https://colab.research.google.com/assets/colab-badge.svg\" alt=\"Open In Colab\"/></a>"
      ]
    },
    {
      "cell_type": "markdown",
      "source": [
        "Ngoran aristide"
      ],
      "metadata": {
        "id": "iKaJ8Ad29L7S"
      },
      "id": "iKaJ8Ad29L7S"
    },
    {
      "cell_type": "code",
      "source": [],
      "metadata": {
        "id": "iECUWqdr9Z27"
      },
      "id": "iECUWqdr9Z27",
      "execution_count": null,
      "outputs": []
    }
  ],
  "metadata": {
    "colab": {
      "provenance": [],
      "include_colab_link": true
    }
  },
  "nbformat": 4,
  "nbformat_minor": 5
}