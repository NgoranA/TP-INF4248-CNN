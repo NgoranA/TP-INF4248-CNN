{
  "cells": [
    {
      "cell_type": "markdown",
      "metadata": {
        "id": "view-in-github",
        "colab_type": "text"
      },
      "source": [
        "<a href=\"https://colab.research.google.com/github/NgoranA/TP1-INF4248-CNN/blob/main/TP1_INF4248_CNN.ipynb\" target=\"_parent\"><img src=\"https://colab.research.google.com/assets/colab-badge.svg\" alt=\"Open In Colab\"/></a>"
      ]
    },
    {
      "cell_type": "markdown",
      "source": [
        "Ngoran aristide"
      ],
      "metadata": {
        "id": "iKaJ8Ad29L7S"
      },
      "id": "iKaJ8Ad29L7S"
    },
    {
      "cell_type": "code",
      "source": [
        "pip install torch torchvision opencv-contrib-python scikit-learn"
      ],
      "metadata": {
        "colab": {
          "base_uri": "https://localhost:8080/"
        },
        "id": "EVLyeH4emrRA",
        "outputId": "97bad0d4-d1b1-41a5-b16f-82901ed264c2"
      },
      "id": "EVLyeH4emrRA",
      "execution_count": 2,
      "outputs": [
        {
          "output_type": "stream",
          "name": "stdout",
          "text": [
            "Requirement already satisfied: torch in /usr/local/lib/python3.10/dist-packages (2.2.1+cu121)\n",
            "Requirement already satisfied: torchvision in /usr/local/lib/python3.10/dist-packages (0.17.1+cu121)\n",
            "Requirement already satisfied: opencv-contrib-python in /usr/local/lib/python3.10/dist-packages (4.8.0.76)\n",
            "Requirement already satisfied: scikit-learn in /usr/local/lib/python3.10/dist-packages (1.2.2)\n",
            "Requirement already satisfied: filelock in /usr/local/lib/python3.10/dist-packages (from torch) (3.13.3)\n",
            "Requirement already satisfied: typing-extensions>=4.8.0 in /usr/local/lib/python3.10/dist-packages (from torch) (4.10.0)\n",
            "Requirement already satisfied: sympy in /usr/local/lib/python3.10/dist-packages (from torch) (1.12)\n",
            "Requirement already satisfied: networkx in /usr/local/lib/python3.10/dist-packages (from torch) (3.2.1)\n",
            "Requirement already satisfied: jinja2 in /usr/local/lib/python3.10/dist-packages (from torch) (3.1.3)\n",
            "Requirement already satisfied: fsspec in /usr/local/lib/python3.10/dist-packages (from torch) (2023.6.0)\n",
            "Collecting nvidia-cuda-nvrtc-cu12==12.1.105 (from torch)\n",
            "  Using cached nvidia_cuda_nvrtc_cu12-12.1.105-py3-none-manylinux1_x86_64.whl (23.7 MB)\n",
            "Collecting nvidia-cuda-runtime-cu12==12.1.105 (from torch)\n",
            "  Using cached nvidia_cuda_runtime_cu12-12.1.105-py3-none-manylinux1_x86_64.whl (823 kB)\n",
            "Collecting nvidia-cuda-cupti-cu12==12.1.105 (from torch)\n",
            "  Using cached nvidia_cuda_cupti_cu12-12.1.105-py3-none-manylinux1_x86_64.whl (14.1 MB)\n",
            "Collecting nvidia-cudnn-cu12==8.9.2.26 (from torch)\n",
            "  Using cached nvidia_cudnn_cu12-8.9.2.26-py3-none-manylinux1_x86_64.whl (731.7 MB)\n",
            "Collecting nvidia-cublas-cu12==12.1.3.1 (from torch)\n",
            "  Using cached nvidia_cublas_cu12-12.1.3.1-py3-none-manylinux1_x86_64.whl (410.6 MB)\n",
            "Collecting nvidia-cufft-cu12==11.0.2.54 (from torch)\n",
            "  Using cached nvidia_cufft_cu12-11.0.2.54-py3-none-manylinux1_x86_64.whl (121.6 MB)\n",
            "Collecting nvidia-curand-cu12==10.3.2.106 (from torch)\n",
            "  Using cached nvidia_curand_cu12-10.3.2.106-py3-none-manylinux1_x86_64.whl (56.5 MB)\n",
            "Collecting nvidia-cusolver-cu12==11.4.5.107 (from torch)\n",
            "  Using cached nvidia_cusolver_cu12-11.4.5.107-py3-none-manylinux1_x86_64.whl (124.2 MB)\n",
            "Collecting nvidia-cusparse-cu12==12.1.0.106 (from torch)\n",
            "  Using cached nvidia_cusparse_cu12-12.1.0.106-py3-none-manylinux1_x86_64.whl (196.0 MB)\n",
            "Collecting nvidia-nccl-cu12==2.19.3 (from torch)\n",
            "  Using cached nvidia_nccl_cu12-2.19.3-py3-none-manylinux1_x86_64.whl (166.0 MB)\n",
            "Collecting nvidia-nvtx-cu12==12.1.105 (from torch)\n",
            "  Using cached nvidia_nvtx_cu12-12.1.105-py3-none-manylinux1_x86_64.whl (99 kB)\n",
            "Requirement already satisfied: triton==2.2.0 in /usr/local/lib/python3.10/dist-packages (from torch) (2.2.0)\n",
            "Collecting nvidia-nvjitlink-cu12 (from nvidia-cusolver-cu12==11.4.5.107->torch)\n",
            "  Using cached nvidia_nvjitlink_cu12-12.4.127-py3-none-manylinux2014_x86_64.whl (21.1 MB)\n",
            "Requirement already satisfied: numpy in /usr/local/lib/python3.10/dist-packages (from torchvision) (1.25.2)\n",
            "Requirement already satisfied: pillow!=8.3.*,>=5.3.0 in /usr/local/lib/python3.10/dist-packages (from torchvision) (9.4.0)\n",
            "Requirement already satisfied: scipy>=1.3.2 in /usr/local/lib/python3.10/dist-packages (from scikit-learn) (1.11.4)\n",
            "Requirement already satisfied: joblib>=1.1.1 in /usr/local/lib/python3.10/dist-packages (from scikit-learn) (1.3.2)\n",
            "Requirement already satisfied: threadpoolctl>=2.0.0 in /usr/local/lib/python3.10/dist-packages (from scikit-learn) (3.4.0)\n",
            "Requirement already satisfied: MarkupSafe>=2.0 in /usr/local/lib/python3.10/dist-packages (from jinja2->torch) (2.1.5)\n",
            "Requirement already satisfied: mpmath>=0.19 in /usr/local/lib/python3.10/dist-packages (from sympy->torch) (1.3.0)\n",
            "Installing collected packages: nvidia-nvtx-cu12, nvidia-nvjitlink-cu12, nvidia-nccl-cu12, nvidia-curand-cu12, nvidia-cufft-cu12, nvidia-cuda-runtime-cu12, nvidia-cuda-nvrtc-cu12, nvidia-cuda-cupti-cu12, nvidia-cublas-cu12, nvidia-cusparse-cu12, nvidia-cudnn-cu12, nvidia-cusolver-cu12\n",
            "Successfully installed nvidia-cublas-cu12-12.1.3.1 nvidia-cuda-cupti-cu12-12.1.105 nvidia-cuda-nvrtc-cu12-12.1.105 nvidia-cuda-runtime-cu12-12.1.105 nvidia-cudnn-cu12-8.9.2.26 nvidia-cufft-cu12-11.0.2.54 nvidia-curand-cu12-10.3.2.106 nvidia-cusolver-cu12-11.4.5.107 nvidia-cusparse-cu12-12.1.0.106 nvidia-nccl-cu12-2.19.3 nvidia-nvjitlink-cu12-12.4.127 nvidia-nvtx-cu12-12.1.105\n"
          ]
        }
      ]
    },
    {
      "cell_type": "markdown",
      "source": [
        "Here we want to create our own version of the LeNet Architecture."
      ],
      "metadata": {
        "id": "fWDTotMSoBOB"
      },
      "id": "fWDTotMSoBOB"
    },
    {
      "cell_type": "code",
      "source": [
        "# import the necessary packages\n",
        "from torch.nn import Module # this is in order to see how pytorch implements neural networks with classes.\n",
        "from torch.nn import Conv2d # This is pytorch's implementation of convolutional layers\n",
        "from torch.nn import Linear # FC layers\n",
        "from torch.nn import MaxPool2d # Applies 2D max-pooling to reduce the spatial dimensions of the input volume\n",
        "from torch.nn import ReLU\n",
        "from torch.nn import LogSoftmax # helps return probabilistic predictions of each class\n",
        "from torch import flatten"
      ],
      "metadata": {
        "id": "w0Z62HBFmyvW"
      },
      "id": "w0Z62HBFmyvW",
      "execution_count": 3,
      "outputs": []
    },
    {
      "cell_type": "markdown",
      "source": [
        "Here, we are setting up the architecture for the LeNet model, including **convolutional**, **activation**, **pooling**, and **fully connected layers**, as well as a **softmax classifier** for classifying input images into different classes."
      ],
      "metadata": {
        "id": "uCtH_vS9q6u6"
      },
      "id": "uCtH_vS9q6u6"
    },
    {
      "cell_type": "code",
      "source": [
        "class LeNet(Module):\n",
        "    def __init__(self, numChannels, classes):\n",
        "        # call the parent constructor\n",
        "        super(LeNet, self).__init__()\n",
        "\n",
        "        # initialize first set of CONV => RELU => POOL layers\n",
        "        self.conv1 = Conv2d(in_channels=numChannels, out_channels=20, kernel_size=(5, 5))\n",
        "        self.relu1 = ReLU()\n",
        "        self.maxpool1 = MaxPool2d(kernel_size=(2, 2), stride=(2, 2))\n",
        "\n",
        "        # initialize second set of CONV => RELU => POOL layers\n",
        "        self.conv2 = Conv2d(in_channels=20, out_channels=50, kernel_size=(5, 5))\n",
        "        self.relu2 = ReLU()\n",
        "        self.maxpool2 = MaxPool2d(kernel_size=(2, 2), stride=(2, 2))\n",
        "\n",
        "        # initialize first (and only) set of FC => RELU layers\n",
        "        self.fc1 = Linear(in_features=800, out_features=500)\n",
        "        self.relu3 = ReLU()\n",
        "\n",
        "        # initialize our softmax classifier\n",
        "        self.fc2 = Linear(in_features=500, out_features=classes)\n",
        "        self.logSoftmax = LogSoftmax(dim=1)\n",
        "\n",
        "    def forward(self, x):\n",
        "        # pass the input through our first set of CONV => RELU => POOL layers\n",
        "        x = self.conv1(x)\n",
        "        x = self.relu1(x)\n",
        "        x = self.maxpool1(x)\n",
        "\n",
        "        # pass the output from the previous layer through the second\n",
        "        # set of CONV => RELU => POOL layers\n",
        "        x = self.conv2(x)\n",
        "        x = self.relu2(x)\n",
        "        x = self.maxpool2(x)\n",
        "\n",
        "        # flatten the output from the previous layer and pass it\n",
        "        # through our only set of FC => RELU layers\n",
        "        x = torch.flatten(x, 1)\n",
        "        x = self.fc1(x)\n",
        "        x = self.relu3(x)\n",
        "\n",
        "        # pass the output to our softmax classifier to get our output\n",
        "        # predictions\n",
        "        x = self.fc2(x)\n",
        "        output = self.logSoftmax(x)\n",
        "\n",
        "        # return the output predictions\n",
        "        return output\n"
      ],
      "metadata": {
        "id": "a6mc0crinjMb"
      },
      "id": "a6mc0crinjMb",
      "execution_count": 4,
      "outputs": []
    },
    {
      "cell_type": "code",
      "source": [
        "# set the matplotlib backend so figures can be saved in the background\n",
        "import matplotlib\n",
        "matplotlib.use(\"module://ipykernel.pylab.backend_inline\")\n",
        "# import the necessary packages\n",
        "from sklearn.metrics import classification_report\n",
        "from torch.utils.data import random_split\n",
        "from torch.utils.data import DataLoader\n",
        "from torchvision.transforms import ToTensor\n",
        "from torchvision.datasets import KMNIST\n",
        "from torch.optim import Adam\n",
        "from torch import nn\n",
        "import matplotlib.pyplot as plt\n",
        "import numpy as np\n",
        "import argparse\n",
        "import torch\n",
        "import time"
      ],
      "metadata": {
        "id": "Me_3D4NLrhk3"
      },
      "id": "Me_3D4NLrhk3",
      "execution_count": 11,
      "outputs": []
    },
    {
      "cell_type": "code",
      "source": [
        "# # construct the argument parser and parse the arguments\n",
        "# ap = argparse.ArgumentParser()\n",
        "# ap.add_argument(\"-m\", \"--model\", type=str, required=True, help=\"path to output trained model\")\n",
        "# ap.add_argument(\"-p\", \"--plot\", type=str, required=True, help=\"path to output loss/accuracy plot\")\n",
        "# args = vars(ap.parse_args([\"--model\", \"path_to_model\", \"--plot\", \"path_to_plot\"]))"
      ],
      "metadata": {
        "id": "9-RQKiz6j2LU"
      },
      "id": "9-RQKiz6j2LU",
      "execution_count": 6,
      "outputs": []
    },
    {
      "cell_type": "code",
      "source": [
        "# define training hyperparameters\n",
        "INIT_LR = 1e-3\n",
        "BATCH_SIZE = 64\n",
        "EPOCHS = 10\n",
        "\n",
        "# define the train and val splits\n",
        "TRAIN_SPLIT = 0.75\n",
        "VAL_SPLIT = 1 - TRAIN_SPLIT\n",
        "\n",
        "# set the device we will be using to train the model\n",
        "device = torch.device(\"cuda\" if torch.cuda.is_available() else \"cpu\")"
      ],
      "metadata": {
        "id": "U-KNsk8PzUSD"
      },
      "id": "U-KNsk8PzUSD",
      "execution_count": 7,
      "outputs": []
    },
    {
      "cell_type": "code",
      "source": [
        "# load the KMNIST dataset\n",
        "trainData = KMNIST(root=\"data\", train=True, download=True, transform=ToTensor())\n",
        "testData = KMNIST(root=\"data\", train=False, download=True, transform=ToTensor())\n",
        "\n",
        "# calculate the train/validation split\n",
        "numTrainSamples = int(len(trainData) * TRAIN_SPLIT)\n",
        "numValSamples = int(len(trainData) * VAL_SPLIT)\n",
        "(trainData, valData) = random_split(trainData, [numTrainSamples, numValSamples], generator=torch.Generator().manual_seed(42))"
      ],
      "metadata": {
        "colab": {
          "base_uri": "https://localhost:8080/"
        },
        "id": "4Tx3mxOYQYAc",
        "outputId": "4a1f6a35-433a-45ab-ff07-2715c2176aa2"
      },
      "id": "4Tx3mxOYQYAc",
      "execution_count": 8,
      "outputs": [
        {
          "output_type": "stream",
          "name": "stdout",
          "text": [
            "Downloading http://codh.rois.ac.jp/kmnist/dataset/kmnist/train-images-idx3-ubyte.gz\n",
            "Downloading http://codh.rois.ac.jp/kmnist/dataset/kmnist/train-images-idx3-ubyte.gz to data/KMNIST/raw/train-images-idx3-ubyte.gz\n"
          ]
        },
        {
          "output_type": "stream",
          "name": "stderr",
          "text": [
            "100%|██████████| 18165135/18165135 [00:07<00:00, 2464479.10it/s]\n"
          ]
        },
        {
          "output_type": "stream",
          "name": "stdout",
          "text": [
            "Extracting data/KMNIST/raw/train-images-idx3-ubyte.gz to data/KMNIST/raw\n",
            "\n",
            "Downloading http://codh.rois.ac.jp/kmnist/dataset/kmnist/train-labels-idx1-ubyte.gz\n",
            "Downloading http://codh.rois.ac.jp/kmnist/dataset/kmnist/train-labels-idx1-ubyte.gz to data/KMNIST/raw/train-labels-idx1-ubyte.gz\n"
          ]
        },
        {
          "output_type": "stream",
          "name": "stderr",
          "text": [
            "100%|██████████| 29497/29497 [00:00<00:00, 450286.56it/s]\n"
          ]
        },
        {
          "output_type": "stream",
          "name": "stdout",
          "text": [
            "Extracting data/KMNIST/raw/train-labels-idx1-ubyte.gz to data/KMNIST/raw\n",
            "\n",
            "Downloading http://codh.rois.ac.jp/kmnist/dataset/kmnist/t10k-images-idx3-ubyte.gz\n",
            "Downloading http://codh.rois.ac.jp/kmnist/dataset/kmnist/t10k-images-idx3-ubyte.gz to data/KMNIST/raw/t10k-images-idx3-ubyte.gz\n"
          ]
        },
        {
          "output_type": "stream",
          "name": "stderr",
          "text": [
            "100%|██████████| 3041136/3041136 [00:01<00:00, 1559184.38it/s]\n"
          ]
        },
        {
          "output_type": "stream",
          "name": "stdout",
          "text": [
            "Extracting data/KMNIST/raw/t10k-images-idx3-ubyte.gz to data/KMNIST/raw\n",
            "\n",
            "Downloading http://codh.rois.ac.jp/kmnist/dataset/kmnist/t10k-labels-idx1-ubyte.gz\n",
            "Downloading http://codh.rois.ac.jp/kmnist/dataset/kmnist/t10k-labels-idx1-ubyte.gz to data/KMNIST/raw/t10k-labels-idx1-ubyte.gz\n"
          ]
        },
        {
          "output_type": "stream",
          "name": "stderr",
          "text": [
            "100%|██████████| 5120/5120 [00:00<00:00, 20374607.67it/s]"
          ]
        },
        {
          "output_type": "stream",
          "name": "stdout",
          "text": [
            "Extracting data/KMNIST/raw/t10k-labels-idx1-ubyte.gz to data/KMNIST/raw\n",
            "\n"
          ]
        },
        {
          "output_type": "stream",
          "name": "stderr",
          "text": [
            "\n"
          ]
        }
      ]
    },
    {
      "cell_type": "code",
      "source": [
        "# initialize the train, validation, and test data loaders\n",
        "trainDataLoader = DataLoader(trainData, shuffle=True, batch_size=BATCH_SIZE)\n",
        "\n",
        "valDataLoader = DataLoader(valData, batch_size=BATCH_SIZE)\n",
        "testDataLoader = DataLoader(testData, batch_size=BATCH_SIZE)\n",
        "\n",
        "# calculate steps per epoch for training and validation set\n",
        "trainSteps = len(trainDataLoader.dataset) // BATCH_SIZE\n",
        "valSteps = len(valDataLoader.dataset) // BATCH_SIZE\n"
      ],
      "metadata": {
        "id": "YO9k7ni1Qbla"
      },
      "id": "YO9k7ni1Qbla",
      "execution_count": 9,
      "outputs": []
    },
    {
      "cell_type": "code",
      "source": [
        "# initialize the LeNet model\n",
        "model = LeNet(numChannels=1, classes=len(trainData.dataset.classes)).to(device)\n",
        "\n",
        "# initialize our optimizer and loss function\n",
        "opt = Adam(model.parameters(), lr=INIT_LR)\n",
        "lossFn = nn.NLLLoss()\n",
        "\n",
        "# initialize a dictionary to store training history\n",
        "H = {\n",
        "\t\"train_loss\": [],\n",
        "\t\"train_acc\": [],\n",
        "\t\"val_loss\": [],\n",
        "\t\"val_acc\": []\n",
        "}\n"
      ],
      "metadata": {
        "id": "If_e8bu8Qm14"
      },
      "id": "If_e8bu8Qm14",
      "execution_count": 10,
      "outputs": []
    },
    {
      "cell_type": "code",
      "source": [
        "# measure how long training is going to take\n",
        "startTime = time.time()\n",
        "\n",
        "# loop over our epochs\n",
        "# loop over our epochs\n",
        "for e in range(0, EPOCHS):\n",
        "    # set the model in training mode\n",
        "    model.train()\n",
        "    # initialize the total training and validation loss\n",
        "    totalTrainLoss = 0\n",
        "    totalValLoss = 0\n",
        "    # initialize the number of correct predictions in the training\n",
        "    # and validation step\n",
        "    trainCorrect = 0\n",
        "    valCorrect = 0\n",
        "    # loop over the training set\n",
        "    for (x, y) in trainDataLoader:\n",
        "        # send the input to the device\n",
        "        (x, y) = (x.to(device), y.to(device))\n",
        "        # perform a forward pass and calculate the training loss\n",
        "        pred = model(x)\n",
        "        loss = lossFn(pred, y)\n",
        "        # zero out the gradients, perform the backpropagation step,\n",
        "        # and update the weights\n",
        "        opt.zero_grad()\n",
        "        loss.backward()\n",
        "        opt.step()\n",
        "        # add the loss to the total training loss so far and\n",
        "        # calculate the number of correct predictions\n",
        "        totalTrainLoss += loss\n",
        "        trainCorrect += (pred.argmax(1) == y).type(torch.float).sum().item()\n",
        "\n",
        "    # switch off autograd for evaluation\n",
        "    with torch.no_grad():\n",
        "        # set the model in evaluation mode\n",
        "        model.eval()\n",
        "        # loop over the validation set\n",
        "        for (x, y) in valDataLoader:\n",
        "            # send the input to the device\n",
        "            (x, y) = (x.to(device), y.to(device))\n",
        "            # make the predictions and calculate the validation loss\n",
        "            pred = model(x)\n",
        "            totalValLoss += lossFn(pred, y)\n",
        "            # calculate the number of correct predictions\n",
        "            valCorrect += (pred.argmax(1) == y).type(torch.float).sum().item()\n",
        "    # calculate the average training and validation loss\n",
        "    avgTrainLoss = totalTrainLoss / trainSteps\n",
        "    avgValLoss = totalValLoss / valSteps\n",
        "    # calculate the training and validation accuracy\n",
        "    trainCorrect = trainCorrect / len(trainDataLoader.dataset)\n",
        "    valCorrect = valCorrect / len(valDataLoader.dataset)\n",
        "    # update our training history\n",
        "    H[\"train_loss\"].append(avgTrainLoss.cpu().detach().numpy())\n",
        "    H[\"train_acc\"].append(trainCorrect)\n",
        "    H[\"val_loss\"].append(avgValLoss.cpu().detach().numpy())\n",
        "    H[\"val_acc\"].append(valCorrect)\n",
        "    # print the model training and validation information\n",
        "    print(\"[INFO] EPOCH: {}/{}\".format(e + 1, EPOCHS))\n",
        "    print(\"Train loss: {:.6f}, Train accuracy: {:.4f}\".format(avgTrainLoss, trainCorrect))\n",
        "    print(\"Val loss: {:.6f}, Val accuracy: {:.4f}\\n\".format(avgValLoss, valCorrect))\n",
        "\n",
        "# finish measuring how long training took\n",
        "endTime = time.time()\n",
        "print(\"[INFO] total time taken to train the model: {:.2f}s\".format(\n",
        "\tendTime - startTime))\n",
        "# we can now evaluate the network on the test set\n",
        "print(\"[INFO] evaluating network...\")\n",
        "# turn off autograd for testing evaluation\n",
        "with torch.no_grad():\n",
        "\t# set the model in evaluation mode\n",
        "\tmodel.eval()\n",
        "\n",
        "\t# initialize a list to store our predictions\n",
        "\tpreds = []\n",
        "\t# loop over the test set\n",
        "\tfor (x, y) in testDataLoader:\n",
        "\t\t# send the input to the device\n",
        "\t\tx = x.to(device)\n",
        "\t\t# make the predictions and add them to the list\n",
        "\t\tpred = model(x)\n",
        "\t\tpreds.extend(pred.argmax(axis=1).cpu().numpy())\n",
        "# generate a classification report\n",
        "print(classification_report(testData.targets.cpu().numpy(),\n",
        "\tnp.array(preds), target_names=testData.classes))"
      ],
      "metadata": {
        "colab": {
          "base_uri": "https://localhost:8080/"
        },
        "id": "AACc0vGJRhBP",
        "outputId": "2e886e2a-1665-4eba-b981-133253b3e661"
      },
      "id": "AACc0vGJRhBP",
      "execution_count": 12,
      "outputs": [
        {
          "output_type": "stream",
          "name": "stdout",
          "text": [
            "[INFO] EPOCH: 1/10\n",
            "Train loss: 0.365168, Train accuracy: 0.8865\n",
            "Val loss: 0.163846, Val accuracy: 0.9524\n",
            "\n",
            "[INFO] EPOCH: 2/10\n",
            "Train loss: 0.105471, Train accuracy: 0.9685\n",
            "Val loss: 0.102175, Val accuracy: 0.9687\n",
            "\n",
            "[INFO] EPOCH: 3/10\n",
            "Train loss: 0.063288, Train accuracy: 0.9806\n",
            "Val loss: 0.082821, Val accuracy: 0.9761\n",
            "\n",
            "[INFO] EPOCH: 4/10\n",
            "Train loss: 0.040673, Train accuracy: 0.9873\n",
            "Val loss: 0.089293, Val accuracy: 0.9738\n",
            "\n",
            "[INFO] EPOCH: 5/10\n",
            "Train loss: 0.028929, Train accuracy: 0.9906\n",
            "Val loss: 0.095780, Val accuracy: 0.9753\n",
            "\n",
            "[INFO] EPOCH: 6/10\n",
            "Train loss: 0.021482, Train accuracy: 0.9936\n",
            "Val loss: 0.074169, Val accuracy: 0.9797\n",
            "\n",
            "[INFO] EPOCH: 7/10\n",
            "Train loss: 0.016141, Train accuracy: 0.9947\n",
            "Val loss: 0.086987, Val accuracy: 0.9776\n",
            "\n",
            "[INFO] EPOCH: 8/10\n",
            "Train loss: 0.015809, Train accuracy: 0.9948\n",
            "Val loss: 0.082120, Val accuracy: 0.9801\n",
            "\n",
            "[INFO] EPOCH: 9/10\n",
            "Train loss: 0.012664, Train accuracy: 0.9965\n",
            "Val loss: 0.090664, Val accuracy: 0.9806\n",
            "\n",
            "[INFO] EPOCH: 10/10\n",
            "Train loss: 0.009828, Train accuracy: 0.9968\n",
            "Val loss: 0.099505, Val accuracy: 0.9787\n",
            "\n",
            "[INFO] total time taken to train the model: 88.56s\n",
            "[INFO] evaluating network...\n",
            "              precision    recall  f1-score   support\n",
            "\n",
            "           o       0.95      0.96      0.95      1000\n",
            "          ki       0.94      0.95      0.94      1000\n",
            "          su       0.94      0.90      0.92      1000\n",
            "         tsu       0.95      0.98      0.96      1000\n",
            "          na       0.89      0.96      0.93      1000\n",
            "          ha       0.98      0.92      0.95      1000\n",
            "          ma       0.94      0.95      0.95      1000\n",
            "          ya       0.97      0.97      0.97      1000\n",
            "          re       0.95      0.95      0.95      1000\n",
            "          wo       0.96      0.96      0.96      1000\n",
            "\n",
            "    accuracy                           0.95     10000\n",
            "   macro avg       0.95      0.95      0.95     10000\n",
            "weighted avg       0.95      0.95      0.95     10000\n",
            "\n"
          ]
        }
      ]
    },
    {
      "cell_type": "code",
      "source": [
        "\n",
        "# plot the training loss and accuracy\n",
        "plt.style.use(\"ggplot\")\n",
        "plt.figure()\n",
        "plt.plot(H[\"train_loss\"], label=\"train_loss\")\n",
        "plt.plot(H[\"val_loss\"], label=\"val_loss\")\n",
        "plt.plot(H[\"train_acc\"], label=\"train_acc\")\n",
        "plt.plot(H[\"val_acc\"], label=\"val_acc\")\n",
        "plt.title(\"Training Loss and Accuracy on Dataset\")\n",
        "plt.xlabel(\"Epoch #\")\n",
        "plt.ylabel(\"Loss/Accuracy\")\n",
        "plt.legend(loc=\"lower left\")\n",
        "\n",
        "\n",
        "\n",
        "\n",
        "# plt.savefig(args[\"plot\"])\n",
        "\n",
        "# serialize the model to disk\n",
        "# torch.save(model, args[\"model\"])"
      ],
      "metadata": {
        "colab": {
          "base_uri": "https://localhost:8080/"
        },
        "id": "tlSiATrot5cH",
        "outputId": "d1750c34-f37f-4929-eef0-1f0da4e11242"
      },
      "id": "tlSiATrot5cH",
      "execution_count": 13,
      "outputs": [
        {
          "output_type": "execute_result",
          "data": {
            "text/plain": [
              "<matplotlib.legend.Legend at 0x78fabbb339a0>"
            ]
          },
          "metadata": {},
          "execution_count": 13
        }
      ]
    },
    {
      "cell_type": "code",
      "source": [
        "plt.show()"
      ],
      "metadata": {
        "colab": {
          "base_uri": "https://localhost:8080/",
          "height": 477
        },
        "id": "ts7-OP4iuF1M",
        "outputId": "993d21e7-98a8-431c-e1d8-faca117c1b9f"
      },
      "id": "ts7-OP4iuF1M",
      "execution_count": 14,
      "outputs": [
        {
          "output_type": "display_data",
          "data": {
            "text/plain": [
              "<Figure size 640x480 with 1 Axes>"
            ],
            "image/png": "[encoded data removed]"
          },
          "metadata": {}
        }
      ]
    },
    {
      "cell_type": "code",
      "source": [
        "# set the numpy seed for better reproducibility\n",
        "import numpy as np\n",
        "np.random.seed(42)\n",
        "# import the necessary packages\n",
        "from torch.utils.data import DataLoader\n",
        "from torch.utils.data import Subset\n",
        "from torchvision.transforms import ToTensor\n",
        "from torchvision.datasets import KMNIST\n",
        "import argparse\n",
        "import imutils\n",
        "import torch\n",
        "import cv2\n"
      ],
      "metadata": {
        "id": "Z0KB08GAujgO"
      },
      "id": "Z0KB08GAujgO",
      "execution_count": 16,
      "outputs": []
    },
    {
      "cell_type": "code",
      "source": [
        "# set the device we will be using to test the model\n",
        "device = torch.device(\"cuda\" if torch.cuda.is_available() else \"cpu\")\n",
        "\n",
        "# load the KMNIST dataset and randomly grab 10 data points\n",
        "testData = KMNIST(root=\"data\", train=False, download=True, transform=ToTensor())\n",
        "idxs = np.random.choice(range(0, len(testData)), size=(10,))\n",
        "testData = Subset(testData, idxs)\n",
        "\n",
        "# initialize the test data loader\n",
        "testDataLoader = DataLoader(testData, batch_size=1)\n",
        "\n",
        "model.eval()"
      ],
      "metadata": {
        "colab": {
          "base_uri": "https://localhost:8080/"
        },
        "id": "yl1m94DC2HHA",
        "outputId": "259c9fe8-ad05-47b2-bc13-6ef0a1105cd9"
      },
      "id": "yl1m94DC2HHA",
      "execution_count": 17,
      "outputs": [
        {
          "output_type": "execute_result",
          "data": {
            "text/plain": [
              "LeNet(\n",
              "  (conv1): Conv2d(1, 20, kernel_size=(5, 5), stride=(1, 1))\n",
              "  (relu1): ReLU()\n",
              "  (maxpool1): MaxPool2d(kernel_size=(2, 2), stride=(2, 2), padding=0, dilation=1, ceil_mode=False)\n",
              "  (conv2): Conv2d(20, 50, kernel_size=(5, 5), stride=(1, 1))\n",
              "  (relu2): ReLU()\n",
              "  (maxpool2): MaxPool2d(kernel_size=(2, 2), stride=(2, 2), padding=0, dilation=1, ceil_mode=False)\n",
              "  (fc1): Linear(in_features=800, out_features=500, bias=True)\n",
              "  (relu3): ReLU()\n",
              "  (fc2): Linear(in_features=500, out_features=10, bias=True)\n",
              "  (logSoftmax): LogSoftmax(dim=1)\n",
              ")"
            ]
          },
          "metadata": {},
          "execution_count": 17
        }
      ]
    },
    {
      "cell_type": "code",
      "source": [
        "from google.colab.patches import cv2_imshow"
      ],
      "metadata": {
        "id": "YRmDauLz3B85"
      },
      "id": "YRmDauLz3B85",
      "execution_count": 19,
      "outputs": []
    },
    {
      "cell_type": "code",
      "source": [
        "# switch off autograd\n",
        "with torch.no_grad():\n",
        "\t# loop over the test set\n",
        "\tfor (image, label) in testDataLoader:\n",
        "\t\t# grab the original image and ground truth label\n",
        "\t\torigImage = image.numpy().squeeze(axis=(0, 1))\n",
        "\t\tgtLabel = testData.dataset.classes[label.numpy()[0]]\n",
        "\t\t# send the input to the device and make predictions on it\n",
        "\t\timage = image.to(device)\n",
        "\t\tpred = model(image)\n",
        "\t\t# find the class label index with the largest corresponding\n",
        "\t\t# probability\n",
        "\t\tidx = pred.argmax(axis=1).cpu().numpy()[0]\n",
        "\t\tpredLabel = testData.dataset.classes[idx]\n",
        "    # convert the image from grayscale to RGB (so we can draw on\n",
        "\t\t# it) and resize it (so we can more easily see it on our\n",
        "\t\t# screen)\n",
        "\t\torigImage = np.dstack([origImage] * 3)\n",
        "\t\torigImage = imutils.resize(origImage, width=128)\n",
        "\t\t# draw the predicted class label on it\n",
        "\t\tcolor = (0, 255, 0) if gtLabel == predLabel else (0, 0, 255)\n",
        "\t\tcv2.putText(origImage, gtLabel, (2, 25), cv2.FONT_HERSHEY_SIMPLEX, 0.95, color, 2)\n",
        "\t\t# display the result in terminal and show the input image\n",
        "\t\tprint(\"[INFO] ground truth label: {}, predicted label: {}\".format(gtLabel, predLabel))\n",
        "\t\tcv2_imshow(origImage)\n",
        "\t\tcv2.waitKey(0)\n",
        "\n"
      ],
      "metadata": {
        "colab": {
          "base_uri": "https://localhost:8080/",
          "height": 1000
        },
        "id": "VNPczMWr2ftr",
        "outputId": "84de81b2-99ad-4221-dcd9-b2e98a7825c4"
      },
      "id": "VNPczMWr2ftr",
      "execution_count": 20,
      "outputs": [
        {
          "output_type": "stream",
          "name": "stdout",
          "text": [
            "[INFO] ground truth label: ki, predicted label: ki\n"
          ]
        },
        {
          "output_type": "display_data",
          "data": {
            "text/plain": [
              "<PIL.Image.Image image mode=RGB size=128x128>"
            ],
            "image/png": "[encoded data removed]"
          },
          "metadata": {}
        },
        {
          "output_type": "stream",
          "name": "stdout",
          "text": [
            "[INFO] ground truth label: ki, predicted label: ki\n"
          ]
        },
        {
          "output_type": "display_data",
          "data": {
            "text/plain": [
              "<PIL.Image.Image image mode=RGB size=128x128>"
            ],
            "image/png": "[encoded data removed]"
          },
          "metadata": {}
        },
        {
          "output_type": "stream",
          "name": "stdout",
          "text": [
            "[INFO] ground truth label: ki, predicted label: ki\n"
          ]
        },
        {
          "output_type": "display_data",
          "data": {
            "text/plain": [
              "<PIL.Image.Image image mode=RGB size=128x128>"
            ],
            "image/png": "[encoded data removed]"
          },
          "metadata": {}
        },
        {
          "output_type": "stream",
          "name": "stdout",
          "text": [
            "[INFO] ground truth label: ha, predicted label: ha\n"
          ]
        },
        {
          "output_type": "display_data",
          "data": {
            "text/plain": [
              "<PIL.Image.Image image mode=RGB size=128x128>"
            ],
            "image/png": "[encoded data removed]"
          },
          "metadata": {}
        },
        {
          "output_type": "stream",
          "name": "stdout",
          "text": [
            "[INFO] ground truth label: tsu, predicted label: tsu\n"
          ]
        },
        {
          "output_type": "display_data",
          "data": {
            "text/plain": [
              "<PIL.Image.Image image mode=RGB size=128x128>"
            ],
            "image/png": "[encoded data removed]"
          },
          "metadata": {}
        },
        {
          "output_type": "stream",
          "name": "stdout",
          "text": [
            "[INFO] ground truth label: ya, predicted label: ya\n"
          ]
        },
        {
          "output_type": "display_data",
          "data": {
            "text/plain": [
              "<PIL.Image.Image image mode=RGB size=128x128>"
            ],
            "image/png": "[encoded data removed]"
          },
          "metadata": {}
        },
        {
          "output_type": "stream",
          "name": "stdout",
          "text": [
            "[INFO] ground truth label: tsu, predicted label: tsu\n"
          ]
        },
        {
          "output_type": "display_data",
          "data": {
            "text/plain": [
              "<PIL.Image.Image image mode=RGB size=128x128>"
            ],
            "image/png": "[encoded data removed]"
          },
          "metadata": {}
        },
        {
          "output_type": "stream",
          "name": "stdout",
          "text": [
            "[INFO] ground truth label: na, predicted label: na\n"
          ]
        },
        {
          "output_type": "display_data",
          "data": {
            "text/plain": [
              "<PIL.Image.Image image mode=RGB size=128x128>"
            ],
            "image/png": "[encoded data removed]"
          },
          "metadata": {}
        },
        {
          "output_type": "stream",
          "name": "stdout",
          "text": [
            "[INFO] ground truth label: ki, predicted label: ki\n"
          ]
        },
        {
          "output_type": "display_data",
          "data": {
            "text/plain": [
              "<PIL.Image.Image image mode=RGB size=128x128>"
            ],
            "image/png": "[encoded data removed]"
          },
          "metadata": {}
        },
        {
          "output_type": "stream",
          "name": "stdout",
          "text": [
            "[INFO] ground truth label: tsu, predicted label: tsu\n"
          ]
        },
        {
          "output_type": "display_data",
          "data": {
            "text/plain": [
              "<PIL.Image.Image image mode=RGB size=128x128>"
            ],
            "image/png": "[encoded data removed]"
          },
          "metadata": {}
        }
      ]
    },
    {
      "cell_type": "code",
      "source": [],
      "metadata": {
        "id": "QJ81A9qI24hO"
      },
      "id": "QJ81A9qI24hO",
      "execution_count": null,
      "outputs": []
    }
  ],
  "metadata": {
    "colab": {
      "provenance": [],
      "name": "TP1 INF4248 CNN.ipynb",
      "gpuType": "T4",
      "include_colab_link": true
    },
    "language_info": {
      "name": "python"
    },
    "kernelspec": {
      "name": "python3",
      "display_name": "Python 3"
    },
    "accelerator": "GPU"
  },
  "nbformat": 4,
  "nbformat_minor": 5
}